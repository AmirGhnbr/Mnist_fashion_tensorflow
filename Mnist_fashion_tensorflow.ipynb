{
  "nbformat": 4,
  "nbformat_minor": 0,
  "metadata": {
    "colab": {
      "provenance": [],
      "collapsed_sections": [],
      "authorship_tag": "ABX9TyPzZmEnYSHYIUVFIjyZR2kq",
      "include_colab_link": true
    },
    "kernelspec": {
      "name": "python3",
      "display_name": "Python 3"
    },
    "language_info": {
      "name": "python"
    }
  },
  "cells": [
    {
      "cell_type": "markdown",
      "metadata": {
        "id": "view-in-github",
        "colab_type": "text"
      },
      "source": [
        "<a href=\"https://colab.research.google.com/github/AmirGhnbr/Mnist_fashion_tensorflow/blob/dev_branch/Mnist_fashion_tensorflow.ipynb\" target=\"_parent\"><img src=\"https://colab.research.google.com/assets/colab-badge.svg\" alt=\"Open In Colab\"/></a>"
      ]
    },
    {
      "cell_type": "code",
      "execution_count": 1,
      "metadata": {
        "colab": {
          "base_uri": "https://localhost:8080/"
        },
        "id": "RSEDyr5APTI6",
        "outputId": "c50a1939-0ca6-44ef-d189-94b18c753992"
      },
      "outputs": [
        {
          "output_type": "stream",
          "name": "stdout",
          "text": [
            "2.8.2\n"
          ]
        }
      ],
      "source": [
        "import tensorflow as tf\n",
        "from tensorflow.keras.datasets import fashion_mnist\n",
        "\n",
        "print(tf.__version__)"
      ]
    },
    {
      "cell_type": "markdown",
      "source": [
        "# loading Data"
      ],
      "metadata": {
        "id": "8fs4MeB-SYnB"
      }
    },
    {
      "cell_type": "code",
      "source": [
        "(train_data, train_labels), (test_data, test_labels) = fashion_mnist.load_data()"
      ],
      "metadata": {
        "colab": {
          "base_uri": "https://localhost:8080/"
        },
        "id": "l7GpnfpTQ6T0",
        "outputId": "33efb3a2-007e-4a0f-a2bd-b9291bbac5a0"
      },
      "execution_count": 2,
      "outputs": [
        {
          "output_type": "stream",
          "name": "stdout",
          "text": [
            "Downloading data from https://storage.googleapis.com/tensorflow/tf-keras-datasets/train-labels-idx1-ubyte.gz\n",
            "32768/29515 [=================================] - 0s 0us/step\n",
            "40960/29515 [=========================================] - 0s 0us/step\n",
            "Downloading data from https://storage.googleapis.com/tensorflow/tf-keras-datasets/train-images-idx3-ubyte.gz\n",
            "26427392/26421880 [==============================] - 0s 0us/step\n",
            "26435584/26421880 [==============================] - 0s 0us/step\n",
            "Downloading data from https://storage.googleapis.com/tensorflow/tf-keras-datasets/t10k-labels-idx1-ubyte.gz\n",
            "16384/5148 [===============================================================================================] - 0s 0us/step\n",
            "Downloading data from https://storage.googleapis.com/tensorflow/tf-keras-datasets/t10k-images-idx3-ubyte.gz\n",
            "4423680/4422102 [==============================] - 0s 0us/step\n",
            "4431872/4422102 [==============================] - 0s 0us/step\n"
          ]
        }
      ]
    },
    {
      "cell_type": "code",
      "source": [
        "train_data[0]"
      ],
      "metadata": {
        "colab": {
          "base_uri": "https://localhost:8080/"
        },
        "id": "R464BqflR5lS",
        "outputId": "dba7e475-a284-4125-d4ad-5051c6f612ed"
      },
      "execution_count": 3,
      "outputs": [
        {
          "output_type": "execute_result",
          "data": {
            "text/plain": [
              "array([[  0,   0,   0,   0,   0,   0,   0,   0,   0,   0,   0,   0,   0,\n",
              "          0,   0,   0,   0,   0,   0,   0,   0,   0,   0,   0,   0,   0,\n",
              "          0,   0],\n",
              "       [  0,   0,   0,   0,   0,   0,   0,   0,   0,   0,   0,   0,   0,\n",
              "          0,   0,   0,   0,   0,   0,   0,   0,   0,   0,   0,   0,   0,\n",
              "          0,   0],\n",
              "       [  0,   0,   0,   0,   0,   0,   0,   0,   0,   0,   0,   0,   0,\n",
              "          0,   0,   0,   0,   0,   0,   0,   0,   0,   0,   0,   0,   0,\n",
              "          0,   0],\n",
              "       [  0,   0,   0,   0,   0,   0,   0,   0,   0,   0,   0,   0,   1,\n",
              "          0,   0,  13,  73,   0,   0,   1,   4,   0,   0,   0,   0,   1,\n",
              "          1,   0],\n",
              "       [  0,   0,   0,   0,   0,   0,   0,   0,   0,   0,   0,   0,   3,\n",
              "          0,  36, 136, 127,  62,  54,   0,   0,   0,   1,   3,   4,   0,\n",
              "          0,   3],\n",
              "       [  0,   0,   0,   0,   0,   0,   0,   0,   0,   0,   0,   0,   6,\n",
              "          0, 102, 204, 176, 134, 144, 123,  23,   0,   0,   0,   0,  12,\n",
              "         10,   0],\n",
              "       [  0,   0,   0,   0,   0,   0,   0,   0,   0,   0,   0,   0,   0,\n",
              "          0, 155, 236, 207, 178, 107, 156, 161, 109,  64,  23,  77, 130,\n",
              "         72,  15],\n",
              "       [  0,   0,   0,   0,   0,   0,   0,   0,   0,   0,   0,   1,   0,\n",
              "         69, 207, 223, 218, 216, 216, 163, 127, 121, 122, 146, 141,  88,\n",
              "        172,  66],\n",
              "       [  0,   0,   0,   0,   0,   0,   0,   0,   0,   1,   1,   1,   0,\n",
              "        200, 232, 232, 233, 229, 223, 223, 215, 213, 164, 127, 123, 196,\n",
              "        229,   0],\n",
              "       [  0,   0,   0,   0,   0,   0,   0,   0,   0,   0,   0,   0,   0,\n",
              "        183, 225, 216, 223, 228, 235, 227, 224, 222, 224, 221, 223, 245,\n",
              "        173,   0],\n",
              "       [  0,   0,   0,   0,   0,   0,   0,   0,   0,   0,   0,   0,   0,\n",
              "        193, 228, 218, 213, 198, 180, 212, 210, 211, 213, 223, 220, 243,\n",
              "        202,   0],\n",
              "       [  0,   0,   0,   0,   0,   0,   0,   0,   0,   1,   3,   0,  12,\n",
              "        219, 220, 212, 218, 192, 169, 227, 208, 218, 224, 212, 226, 197,\n",
              "        209,  52],\n",
              "       [  0,   0,   0,   0,   0,   0,   0,   0,   0,   0,   6,   0,  99,\n",
              "        244, 222, 220, 218, 203, 198, 221, 215, 213, 222, 220, 245, 119,\n",
              "        167,  56],\n",
              "       [  0,   0,   0,   0,   0,   0,   0,   0,   0,   4,   0,   0,  55,\n",
              "        236, 228, 230, 228, 240, 232, 213, 218, 223, 234, 217, 217, 209,\n",
              "         92,   0],\n",
              "       [  0,   0,   1,   4,   6,   7,   2,   0,   0,   0,   0,   0, 237,\n",
              "        226, 217, 223, 222, 219, 222, 221, 216, 223, 229, 215, 218, 255,\n",
              "         77,   0],\n",
              "       [  0,   3,   0,   0,   0,   0,   0,   0,   0,  62, 145, 204, 228,\n",
              "        207, 213, 221, 218, 208, 211, 218, 224, 223, 219, 215, 224, 244,\n",
              "        159,   0],\n",
              "       [  0,   0,   0,   0,  18,  44,  82, 107, 189, 228, 220, 222, 217,\n",
              "        226, 200, 205, 211, 230, 224, 234, 176, 188, 250, 248, 233, 238,\n",
              "        215,   0],\n",
              "       [  0,  57, 187, 208, 224, 221, 224, 208, 204, 214, 208, 209, 200,\n",
              "        159, 245, 193, 206, 223, 255, 255, 221, 234, 221, 211, 220, 232,\n",
              "        246,   0],\n",
              "       [  3, 202, 228, 224, 221, 211, 211, 214, 205, 205, 205, 220, 240,\n",
              "         80, 150, 255, 229, 221, 188, 154, 191, 210, 204, 209, 222, 228,\n",
              "        225,   0],\n",
              "       [ 98, 233, 198, 210, 222, 229, 229, 234, 249, 220, 194, 215, 217,\n",
              "        241,  65,  73, 106, 117, 168, 219, 221, 215, 217, 223, 223, 224,\n",
              "        229,  29],\n",
              "       [ 75, 204, 212, 204, 193, 205, 211, 225, 216, 185, 197, 206, 198,\n",
              "        213, 240, 195, 227, 245, 239, 223, 218, 212, 209, 222, 220, 221,\n",
              "        230,  67],\n",
              "       [ 48, 203, 183, 194, 213, 197, 185, 190, 194, 192, 202, 214, 219,\n",
              "        221, 220, 236, 225, 216, 199, 206, 186, 181, 177, 172, 181, 205,\n",
              "        206, 115],\n",
              "       [  0, 122, 219, 193, 179, 171, 183, 196, 204, 210, 213, 207, 211,\n",
              "        210, 200, 196, 194, 191, 195, 191, 198, 192, 176, 156, 167, 177,\n",
              "        210,  92],\n",
              "       [  0,   0,  74, 189, 212, 191, 175, 172, 175, 181, 185, 188, 189,\n",
              "        188, 193, 198, 204, 209, 210, 210, 211, 188, 188, 194, 192, 216,\n",
              "        170,   0],\n",
              "       [  2,   0,   0,   0,  66, 200, 222, 237, 239, 242, 246, 243, 244,\n",
              "        221, 220, 193, 191, 179, 182, 182, 181, 176, 166, 168,  99,  58,\n",
              "          0,   0],\n",
              "       [  0,   0,   0,   0,   0,   0,   0,  40,  61,  44,  72,  41,  35,\n",
              "          0,   0,   0,   0,   0,   0,   0,   0,   0,   0,   0,   0,   0,\n",
              "          0,   0],\n",
              "       [  0,   0,   0,   0,   0,   0,   0,   0,   0,   0,   0,   0,   0,\n",
              "          0,   0,   0,   0,   0,   0,   0,   0,   0,   0,   0,   0,   0,\n",
              "          0,   0],\n",
              "       [  0,   0,   0,   0,   0,   0,   0,   0,   0,   0,   0,   0,   0,\n",
              "          0,   0,   0,   0,   0,   0,   0,   0,   0,   0,   0,   0,   0,\n",
              "          0,   0]], dtype=uint8)"
            ]
          },
          "metadata": {},
          "execution_count": 3
        }
      ]
    },
    {
      "cell_type": "code",
      "source": [
        "train_data.shape , train_labels.shape, test_data.shape, test_labels.shape"
      ],
      "metadata": {
        "colab": {
          "base_uri": "https://localhost:8080/"
        },
        "id": "tifEGmopR8LU",
        "outputId": "6b233845-a5f2-4e15-ca33-9c89e2a88246"
      },
      "execution_count": 4,
      "outputs": [
        {
          "output_type": "execute_result",
          "data": {
            "text/plain": [
              "((60000, 28, 28), (60000,), (10000, 28, 28), (10000,))"
            ]
          },
          "metadata": {},
          "execution_count": 4
        }
      ]
    },
    {
      "cell_type": "code",
      "source": [
        "import matplotlib.pyplot as plt\n",
        "plt.imshow(train_data[0],cmap = plt.cm.binary) "
      ],
      "metadata": {
        "colab": {
          "base_uri": "https://localhost:8080/",
          "height": 283
        },
        "id": "lC-xwwzZSUNF",
        "outputId": "823aacdd-87e8-4e1b-d06c-026f7a5bb92e"
      },
      "execution_count": 5,
      "outputs": [
        {
          "output_type": "execute_result",
          "data": {
            "text/plain": [
              "<matplotlib.image.AxesImage at 0x7f81df5ef710>"
            ]
          },
          "metadata": {},
          "execution_count": 5
        },
        {
          "output_type": "display_data",
          "data": {
            "text/plain": [
              "<Figure size 432x288 with 1 Axes>"
            ],
            "image/png": "[encoded data removed]"
          },
          "metadata": {
            "needs_background": "light"
          }
        }
      ]
    },
    {
      "cell_type": "code",
      "source": [
        "class_names = ['T-shirt/top', 'Trouser', 'Pullover', 'Dress', 'Coat', \n",
        "               'Sandal', 'Shirt', 'Sneaker', 'Bag', 'Ankle boot']\n",
        "len(class_names)"
      ],
      "metadata": {
        "id": "hndtAhm4SpbJ",
        "colab": {
          "base_uri": "https://localhost:8080/"
        },
        "outputId": "5eb898d1-c397-4713-9a45-5bb56559a12e"
      },
      "execution_count": 6,
      "outputs": [
        {
          "output_type": "execute_result",
          "data": {
            "text/plain": [
              "10"
            ]
          },
          "metadata": {},
          "execution_count": 6
        }
      ]
    },
    {
      "cell_type": "code",
      "source": [
        "import pandas as pd\n",
        "def plot_model(model_history):\n",
        "  pd.DataFrame(model_history.history).plot()"
      ],
      "metadata": {
        "id": "omclvMaOE8TF"
      },
      "execution_count": 7,
      "outputs": []
    },
    {
      "cell_type": "code",
      "source": [
        "import random\n",
        "plt.figure(figsize=(10, 10))\n",
        "for i in range(4):\n",
        "  ax = plt.subplot(2, 2, i + 1)\n",
        "  rand_index = random.choice(range(len(train_data)))\n",
        "  plt.imshow(train_data[rand_index], cmap=plt.cm.binary)\n",
        "  plt.title(class_names[train_labels[rand_index]])\n",
        "  plt.axis(False)"
      ],
      "metadata": {
        "colab": {
          "base_uri": "https://localhost:8080/",
          "height": 590
        },
        "id": "wuKzawYnkksg",
        "outputId": "e698a0ce-e570-4692-b04f-927848982a0d"
      },
      "execution_count": 8,
      "outputs": [
        {
          "output_type": "display_data",
          "data": {
            "text/plain": [
              "<Figure size 720x720 with 4 Axes>"
            ],
            "image/png": "[encoded data removed]"
          },
          "metadata": {
            "needs_background": "light"
          }
        }
      ]
    },
    {
      "cell_type": "code",
      "source": [
        "## build the first nn\n",
        "tf.random.set_seed(42)\n",
        "\n",
        "## use sequential api\n",
        "model_1 = tf.keras.Sequential([\n",
        "    tf.keras.layers.Flatten(input_shape=(28,28)),\n",
        "    tf.keras.layers.Dense(150 ,activation=\"relu\"),\n",
        "    tf.keras.layers.Dense(150 ,activation=\"relu\"),\n",
        "    tf.keras.layers.Dense(10 ,activation=\"softmax\")\n",
        "])\n",
        "\n",
        "## compile the model\n",
        "model_1.compile(loss = tf.keras.losses.SparseCategoricalCrossentropy(),\n",
        "                optimizer = tf.keras.optimizers.Adam(),\n",
        "                metrics=[\"accuracy\"])\n",
        "\n",
        "## fit the model\n",
        "model_1_history = model_1.fit(train_data, train_labels, epochs=30)"
      ],
      "metadata": {
        "colab": {
          "base_uri": "https://localhost:8080/"
        },
        "id": "ltFvRKPlkzRW",
        "outputId": "e2e9279b-bd57-4522-ad4e-9a6dc0610ed1"
      },
      "execution_count": 9,
      "outputs": [
        {
          "output_type": "stream",
          "name": "stdout",
          "text": [
            "Epoch 1/30\n",
            "1875/1875 [==============================] - 10s 5ms/step - loss: 1.9300 - accuracy: 0.7292\n",
            "Epoch 2/30\n",
            "1875/1875 [==============================] - 10s 5ms/step - loss: 0.6469 - accuracy: 0.7865\n",
            "Epoch 3/30\n",
            "1875/1875 [==============================] - 5s 3ms/step - loss: 0.6189 - accuracy: 0.7953\n",
            "Epoch 4/30\n",
            "1875/1875 [==============================] - 5s 3ms/step - loss: 0.5631 - accuracy: 0.8148\n",
            "Epoch 5/30\n",
            "1875/1875 [==============================] - 5s 3ms/step - loss: 0.5178 - accuracy: 0.8238\n",
            "Epoch 6/30\n",
            "1875/1875 [==============================] - 5s 3ms/step - loss: 0.4625 - accuracy: 0.8379\n",
            "Epoch 7/30\n",
            "1875/1875 [==============================] - 5s 3ms/step - loss: 0.4349 - accuracy: 0.8459\n",
            "Epoch 8/30\n",
            "1875/1875 [==============================] - 5s 3ms/step - loss: 0.4284 - accuracy: 0.8489\n",
            "Epoch 9/30\n",
            "1875/1875 [==============================] - 5s 3ms/step - loss: 0.4061 - accuracy: 0.8554\n",
            "Epoch 10/30\n",
            "1875/1875 [==============================] - 5s 3ms/step - loss: 0.4007 - accuracy: 0.8575\n",
            "Epoch 11/30\n",
            "1875/1875 [==============================] - 5s 3ms/step - loss: 0.3912 - accuracy: 0.8599\n",
            "Epoch 12/30\n",
            "1875/1875 [==============================] - 5s 3ms/step - loss: 0.3938 - accuracy: 0.8592\n",
            "Epoch 13/30\n",
            "1875/1875 [==============================] - 5s 3ms/step - loss: 0.3930 - accuracy: 0.8612\n",
            "Epoch 14/30\n",
            "1875/1875 [==============================] - 5s 3ms/step - loss: 0.3752 - accuracy: 0.8642\n",
            "Epoch 15/30\n",
            "1875/1875 [==============================] - 5s 3ms/step - loss: 0.3737 - accuracy: 0.8651\n",
            "Epoch 16/30\n",
            "1875/1875 [==============================] - 5s 3ms/step - loss: 0.3736 - accuracy: 0.8654\n",
            "Epoch 17/30\n",
            "1875/1875 [==============================] - 5s 3ms/step - loss: 0.3664 - accuracy: 0.8665\n",
            "Epoch 18/30\n",
            "1875/1875 [==============================] - 5s 3ms/step - loss: 0.3703 - accuracy: 0.8672\n",
            "Epoch 19/30\n",
            "1875/1875 [==============================] - 5s 3ms/step - loss: 0.3625 - accuracy: 0.8690\n",
            "Epoch 20/30\n",
            "1875/1875 [==============================] - 6s 3ms/step - loss: 0.3604 - accuracy: 0.8691\n",
            "Epoch 21/30\n",
            "1875/1875 [==============================] - 5s 3ms/step - loss: 0.3594 - accuracy: 0.8720\n",
            "Epoch 22/30\n",
            "1875/1875 [==============================] - 5s 3ms/step - loss: 0.3557 - accuracy: 0.8719\n",
            "Epoch 23/30\n",
            "1875/1875 [==============================] - 5s 3ms/step - loss: 0.3536 - accuracy: 0.8720\n",
            "Epoch 24/30\n",
            "1875/1875 [==============================] - 5s 3ms/step - loss: 0.3602 - accuracy: 0.8733\n",
            "Epoch 25/30\n",
            "1875/1875 [==============================] - 5s 3ms/step - loss: 0.3463 - accuracy: 0.8740\n",
            "Epoch 26/30\n",
            "1875/1875 [==============================] - 5s 3ms/step - loss: 0.3557 - accuracy: 0.8711\n",
            "Epoch 27/30\n",
            "1875/1875 [==============================] - 5s 3ms/step - loss: 0.3518 - accuracy: 0.8740\n",
            "Epoch 28/30\n",
            "1875/1875 [==============================] - 5s 3ms/step - loss: 0.3544 - accuracy: 0.8735\n",
            "Epoch 29/30\n",
            "1875/1875 [==============================] - 5s 3ms/step - loss: 0.3436 - accuracy: 0.8750\n",
            "Epoch 30/30\n",
            "1875/1875 [==============================] - 5s 3ms/step - loss: 0.3488 - accuracy: 0.8762\n"
          ]
        }
      ]
    },
    {
      "cell_type": "code",
      "source": [
        "model_1.evaluate(test_data, test_labels)"
      ],
      "metadata": {
        "colab": {
          "base_uri": "https://localhost:8080/"
        },
        "id": "ZP0ZwmRFmF8u",
        "outputId": "aa45bf9e-7a6e-40ec-ad42-b58033a58723"
      },
      "execution_count": 10,
      "outputs": [
        {
          "output_type": "stream",
          "name": "stdout",
          "text": [
            "313/313 [==============================] - 1s 2ms/step - loss: 0.4771 - accuracy: 0.8418\n"
          ]
        },
        {
          "output_type": "execute_result",
          "data": {
            "text/plain": [
              "[0.4771375358104706, 0.8417999744415283]"
            ]
          },
          "metadata": {},
          "execution_count": 10
        }
      ]
    },
    {
      "cell_type": "code",
      "source": [
        "model_1.summary()"
      ],
      "metadata": {
        "colab": {
          "base_uri": "https://localhost:8080/"
        },
        "id": "bVXUMrhln5qi",
        "outputId": "f25d22c2-8c97-470d-93ce-0d4927261d14"
      },
      "execution_count": 11,
      "outputs": [
        {
          "output_type": "stream",
          "name": "stdout",
          "text": [
            "Model: \"sequential\"\n",
            "_________________________________________________________________\n",
            " Layer (type)                Output Shape              Param #   \n",
            "=================================================================\n",
            " flatten (Flatten)           (None, 784)               0         \n",
            "                                                                 \n",
            " dense (Dense)               (None, 150)               117750    \n",
            "                                                                 \n",
            " dense_1 (Dense)             (None, 150)               22650     \n",
            "                                                                 \n",
            " dense_2 (Dense)             (None, 10)                1510      \n",
            "                                                                 \n",
            "=================================================================\n",
            "Total params: 141,910\n",
            "Trainable params: 141,910\n",
            "Non-trainable params: 0\n",
            "_________________________________________________________________\n"
          ]
        }
      ]
    },
    {
      "cell_type": "code",
      "source": [
        "plot_model(model_1_history)"
      ],
      "metadata": {
        "colab": {
          "base_uri": "https://localhost:8080/",
          "height": 268
        },
        "id": "hXogQKDMFRjp",
        "outputId": "2f368f80-52b1-49ff-841d-231fdf8a7815"
      },
      "execution_count": 12,
      "outputs": [
        {
          "output_type": "display_data",
          "data": {
            "text/plain": [
              "<Figure size 432x288 with 1 Axes>"
            ],
            "image/png": "[encoded data removed]"
          },
          "metadata": {
            "needs_background": "light"
          }
        }
      ]
    },
    {
      "cell_type": "code",
      "source": [
        "## preprocess the data \n",
        "train_data.min(), train_data.max()"
      ],
      "metadata": {
        "colab": {
          "base_uri": "https://localhost:8080/"
        },
        "id": "MELDWBvTn9jI",
        "outputId": "439ab543-5ef9-4a14-a401-2e37c8b3e6bd"
      },
      "execution_count": 13,
      "outputs": [
        {
          "output_type": "execute_result",
          "data": {
            "text/plain": [
              "(0, 255)"
            ]
          },
          "metadata": {},
          "execution_count": 13
        }
      ]
    },
    {
      "cell_type": "code",
      "source": [
        "train_data_norm = train_data / 255\n",
        "test_data_norm =test_data / 255\n",
        "\n",
        "train_data_norm.min(), train_data_norm.max()"
      ],
      "metadata": {
        "colab": {
          "base_uri": "https://localhost:8080/"
        },
        "id": "yGi3L2-_p0w9",
        "outputId": "f6a0335d-9b3c-4364-c8ca-0e9771487e5a"
      },
      "execution_count": 14,
      "outputs": [
        {
          "output_type": "execute_result",
          "data": {
            "text/plain": [
              "(0.0, 1.0)"
            ]
          },
          "metadata": {},
          "execution_count": 14
        }
      ]
    },
    {
      "cell_type": "code",
      "source": [
        "## Build model 2\n",
        "model_2 = tf.keras.Sequential([\n",
        "    tf.keras.layers.Flatten(input_shape=(28,28)),\n",
        "    tf.keras.layers.Dense(150 ,activation=\"relu\"),\n",
        "    tf.keras.layers.Dense(150 ,activation=\"relu\"),\n",
        "    tf.keras.layers.Dense(10 ,activation=\"softmax\")\n",
        "])\n",
        "\n",
        "## compile the model\n",
        "model_2.compile(loss = tf.keras.losses.SparseCategoricalCrossentropy(),\n",
        "                optimizer = tf.keras.optimizers.Adam(),\n",
        "                metrics=[\"accuracy\"])\n",
        "\n",
        "## fit the model\n",
        "model_2_history = model_2.fit(train_data_norm, train_labels, epochs=30)"
      ],
      "metadata": {
        "colab": {
          "base_uri": "https://localhost:8080/"
        },
        "id": "QKzlRBaEqGvo",
        "outputId": "2d5b73bd-0f0b-463e-c568-270a3d04f50e"
      },
      "execution_count": 15,
      "outputs": [
        {
          "output_type": "stream",
          "name": "stdout",
          "text": [
            "Epoch 1/30\n",
            "1875/1875 [==============================] - 6s 3ms/step - loss: 0.4804 - accuracy: 0.8270\n",
            "Epoch 2/30\n",
            "1875/1875 [==============================] - 5s 3ms/step - loss: 0.3573 - accuracy: 0.8691\n",
            "Epoch 3/30\n",
            "1875/1875 [==============================] - 5s 3ms/step - loss: 0.3255 - accuracy: 0.8798\n",
            "Epoch 4/30\n",
            "1875/1875 [==============================] - 5s 3ms/step - loss: 0.3022 - accuracy: 0.8888\n",
            "Epoch 5/30\n",
            "1875/1875 [==============================] - 5s 3ms/step - loss: 0.2840 - accuracy: 0.8931\n",
            "Epoch 6/30\n",
            "1875/1875 [==============================] - 5s 3ms/step - loss: 0.2704 - accuracy: 0.8976\n",
            "Epoch 7/30\n",
            "1875/1875 [==============================] - 5s 3ms/step - loss: 0.2576 - accuracy: 0.9028\n",
            "Epoch 8/30\n",
            "1875/1875 [==============================] - 5s 3ms/step - loss: 0.2483 - accuracy: 0.9071\n",
            "Epoch 9/30\n",
            "1875/1875 [==============================] - 5s 3ms/step - loss: 0.2377 - accuracy: 0.9098\n",
            "Epoch 10/30\n",
            "1875/1875 [==============================] - 5s 3ms/step - loss: 0.2305 - accuracy: 0.9130\n",
            "Epoch 11/30\n",
            "1875/1875 [==============================] - 5s 3ms/step - loss: 0.2200 - accuracy: 0.9159\n",
            "Epoch 12/30\n",
            "1875/1875 [==============================] - 5s 3ms/step - loss: 0.2131 - accuracy: 0.9189\n",
            "Epoch 13/30\n",
            "1875/1875 [==============================] - 5s 3ms/step - loss: 0.2064 - accuracy: 0.9214\n",
            "Epoch 14/30\n",
            "1875/1875 [==============================] - 5s 3ms/step - loss: 0.1996 - accuracy: 0.9236\n",
            "Epoch 15/30\n",
            "1875/1875 [==============================] - 5s 3ms/step - loss: 0.1912 - accuracy: 0.9272\n",
            "Epoch 16/30\n",
            "1875/1875 [==============================] - 5s 3ms/step - loss: 0.1863 - accuracy: 0.9295\n",
            "Epoch 17/30\n",
            "1875/1875 [==============================] - 5s 3ms/step - loss: 0.1795 - accuracy: 0.9304\n",
            "Epoch 18/30\n",
            "1875/1875 [==============================] - 5s 3ms/step - loss: 0.1774 - accuracy: 0.9327\n",
            "Epoch 19/30\n",
            "1875/1875 [==============================] - 5s 3ms/step - loss: 0.1723 - accuracy: 0.9343\n",
            "Epoch 20/30\n",
            "1875/1875 [==============================] - 5s 3ms/step - loss: 0.1654 - accuracy: 0.9363\n",
            "Epoch 21/30\n",
            "1875/1875 [==============================] - 5s 3ms/step - loss: 0.1644 - accuracy: 0.9371\n",
            "Epoch 22/30\n",
            "1875/1875 [==============================] - 5s 3ms/step - loss: 0.1555 - accuracy: 0.9412\n",
            "Epoch 23/30\n",
            "1875/1875 [==============================] - 5s 3ms/step - loss: 0.1529 - accuracy: 0.9407\n",
            "Epoch 24/30\n",
            "1875/1875 [==============================] - 5s 3ms/step - loss: 0.1500 - accuracy: 0.9420\n",
            "Epoch 25/30\n",
            "1875/1875 [==============================] - 5s 3ms/step - loss: 0.1443 - accuracy: 0.9444\n",
            "Epoch 26/30\n",
            "1875/1875 [==============================] - 5s 3ms/step - loss: 0.1415 - accuracy: 0.9453\n",
            "Epoch 27/30\n",
            "1875/1875 [==============================] - 5s 3ms/step - loss: 0.1414 - accuracy: 0.9462\n",
            "Epoch 28/30\n",
            "1875/1875 [==============================] - 5s 3ms/step - loss: 0.1385 - accuracy: 0.9473\n",
            "Epoch 29/30\n",
            "1875/1875 [==============================] - 6s 3ms/step - loss: 0.1299 - accuracy: 0.9503\n",
            "Epoch 30/30\n",
            "1875/1875 [==============================] - 5s 3ms/step - loss: 0.1287 - accuracy: 0.9507\n"
          ]
        }
      ]
    },
    {
      "cell_type": "code",
      "source": [
        "model_2.evaluate(test_data_norm, test_labels)"
      ],
      "metadata": {
        "colab": {
          "base_uri": "https://localhost:8080/"
        },
        "id": "oV3ct_0RqiBo",
        "outputId": "89bc4046-3087-43e9-b910-94fb83311940"
      },
      "execution_count": 16,
      "outputs": [
        {
          "output_type": "stream",
          "name": "stdout",
          "text": [
            "313/313 [==============================] - 1s 2ms/step - loss: 0.4794 - accuracy: 0.8847\n"
          ]
        },
        {
          "output_type": "execute_result",
          "data": {
            "text/plain": [
              "[0.47938597202301025, 0.8847000002861023]"
            ]
          },
          "metadata": {},
          "execution_count": 16
        }
      ]
    },
    {
      "cell_type": "code",
      "source": [
        "model_2.summary()"
      ],
      "metadata": {
        "colab": {
          "base_uri": "https://localhost:8080/"
        },
        "id": "HujKXaHS2l67",
        "outputId": "36df3bdf-31cf-404f-8ec5-1ba3e8128cf2"
      },
      "execution_count": 17,
      "outputs": [
        {
          "output_type": "stream",
          "name": "stdout",
          "text": [
            "Model: \"sequential_1\"\n",
            "_________________________________________________________________\n",
            " Layer (type)                Output Shape              Param #   \n",
            "=================================================================\n",
            " flatten_1 (Flatten)         (None, 784)               0         \n",
            "                                                                 \n",
            " dense_3 (Dense)             (None, 150)               117750    \n",
            "                                                                 \n",
            " dense_4 (Dense)             (None, 150)               22650     \n",
            "                                                                 \n",
            " dense_5 (Dense)             (None, 10)                1510      \n",
            "                                                                 \n",
            "=================================================================\n",
            "Total params: 141,910\n",
            "Trainable params: 141,910\n",
            "Non-trainable params: 0\n",
            "_________________________________________________________________\n"
          ]
        }
      ]
    },
    {
      "cell_type": "code",
      "source": [
        "plot_model(model_2_history)"
      ],
      "metadata": {
        "colab": {
          "base_uri": "https://localhost:8080/",
          "height": 265
        },
        "id": "8Ycgy_jBFj4p",
        "outputId": "86f21a37-d023-4a27-b457-a5e2e1741742"
      },
      "execution_count": 18,
      "outputs": [
        {
          "output_type": "display_data",
          "data": {
            "text/plain": [
              "<Figure size 432x288 with 1 Axes>"
            ],
            "image/png": "[encoded data removed]"
          },
          "metadata": {
            "needs_background": "light"
          }
        }
      ]
    },
    {
      "cell_type": "markdown",
      "source": [
        "### 8% improvement in training accuracy and 4% improvement in test accuracy"
      ],
      "metadata": {
        "id": "37dBa2eeuIAa"
      }
    },
    {
      "cell_type": "markdown",
      "source": [
        "## Build the next model with different activation function"
      ],
      "metadata": {
        "id": "4uKuSCnTui_I"
      }
    },
    {
      "cell_type": "code",
      "source": [
        "## Build the model\n",
        "\n",
        "model_3 = tf.keras.Sequential([\n",
        "    tf.keras.layers.Flatten(input_shape=(28,28)),\n",
        "    tf.keras.layers.Dense(150, activation= \"selu\", kernel_initializer=\"lecun_normal\"),\n",
        "    tf.keras.layers.Dense(150, activation= \"selu\", kernel_initializer=\"lecun_normal\"),\n",
        "    tf.keras.layers.Dense(10, activation= \"softmax\")\n",
        "])\n",
        "\n",
        "## compile the model\n",
        "model_3.compile(loss= tf.keras.losses.SparseCategoricalCrossentropy(),\n",
        "                optimizer = tf.keras.optimizers.Adam(),\n",
        "                metrics= [\"accuracy\"])\n",
        "\n",
        "## fit the model\n",
        "model_3_history=model_3.fit(train_data_norm, train_labels, epochs=30)"
      ],
      "metadata": {
        "colab": {
          "base_uri": "https://localhost:8080/"
        },
        "id": "G9Def3oAuriL",
        "outputId": "e1ac8e05-6db4-4506-e721-99d753428b4e"
      },
      "execution_count": 19,
      "outputs": [
        {
          "output_type": "stream",
          "name": "stdout",
          "text": [
            "Epoch 1/30\n",
            "1875/1875 [==============================] - 6s 3ms/step - loss: 0.5020 - accuracy: 0.8193\n",
            "Epoch 2/30\n",
            "1875/1875 [==============================] - 5s 3ms/step - loss: 0.3849 - accuracy: 0.8587\n",
            "Epoch 3/30\n",
            "1875/1875 [==============================] - 5s 3ms/step - loss: 0.3515 - accuracy: 0.8709\n",
            "Epoch 4/30\n",
            "1875/1875 [==============================] - 5s 3ms/step - loss: 0.3239 - accuracy: 0.8802\n",
            "Epoch 5/30\n",
            "1875/1875 [==============================] - 5s 3ms/step - loss: 0.3052 - accuracy: 0.8852\n",
            "Epoch 6/30\n",
            "1875/1875 [==============================] - 5s 3ms/step - loss: 0.2888 - accuracy: 0.8911\n",
            "Epoch 7/30\n",
            "1875/1875 [==============================] - 5s 3ms/step - loss: 0.2762 - accuracy: 0.8963\n",
            "Epoch 8/30\n",
            "1875/1875 [==============================] - 5s 3ms/step - loss: 0.2655 - accuracy: 0.8994\n",
            "Epoch 9/30\n",
            "1875/1875 [==============================] - 5s 3ms/step - loss: 0.2534 - accuracy: 0.9044\n",
            "Epoch 10/30\n",
            "1875/1875 [==============================] - 5s 3ms/step - loss: 0.2466 - accuracy: 0.9063\n",
            "Epoch 11/30\n",
            "1875/1875 [==============================] - 5s 3ms/step - loss: 0.2360 - accuracy: 0.9096\n",
            "Epoch 12/30\n",
            "1875/1875 [==============================] - 5s 3ms/step - loss: 0.2284 - accuracy: 0.9140\n",
            "Epoch 13/30\n",
            "1875/1875 [==============================] - 5s 3ms/step - loss: 0.2207 - accuracy: 0.9154\n",
            "Epoch 14/30\n",
            "1875/1875 [==============================] - 5s 3ms/step - loss: 0.2140 - accuracy: 0.9192\n",
            "Epoch 15/30\n",
            "1875/1875 [==============================] - 5s 3ms/step - loss: 0.2039 - accuracy: 0.9227\n",
            "Epoch 16/30\n",
            "1875/1875 [==============================] - 5s 3ms/step - loss: 0.1991 - accuracy: 0.9239\n",
            "Epoch 17/30\n",
            "1875/1875 [==============================] - 5s 3ms/step - loss: 0.1921 - accuracy: 0.9261\n",
            "Epoch 18/30\n",
            "1875/1875 [==============================] - 5s 3ms/step - loss: 0.1895 - accuracy: 0.9273\n",
            "Epoch 19/30\n",
            "1875/1875 [==============================] - 5s 3ms/step - loss: 0.1828 - accuracy: 0.9291\n",
            "Epoch 20/30\n",
            "1875/1875 [==============================] - 6s 3ms/step - loss: 0.1746 - accuracy: 0.9334\n",
            "Epoch 21/30\n",
            "1875/1875 [==============================] - 6s 3ms/step - loss: 0.1717 - accuracy: 0.9342\n",
            "Epoch 22/30\n",
            "1875/1875 [==============================] - 6s 3ms/step - loss: 0.1655 - accuracy: 0.9371\n",
            "Epoch 23/30\n",
            "1875/1875 [==============================] - 6s 3ms/step - loss: 0.1630 - accuracy: 0.9368\n",
            "Epoch 24/30\n",
            "1875/1875 [==============================] - 6s 3ms/step - loss: 0.1591 - accuracy: 0.9379\n",
            "Epoch 25/30\n",
            "1875/1875 [==============================] - 5s 3ms/step - loss: 0.1507 - accuracy: 0.9423\n",
            "Epoch 26/30\n",
            "1875/1875 [==============================] - 6s 3ms/step - loss: 0.1498 - accuracy: 0.9438\n",
            "Epoch 27/30\n",
            "1875/1875 [==============================] - 5s 3ms/step - loss: 0.1440 - accuracy: 0.9447\n",
            "Epoch 28/30\n",
            "1875/1875 [==============================] - 6s 3ms/step - loss: 0.1432 - accuracy: 0.9453\n",
            "Epoch 29/30\n",
            "1875/1875 [==============================] - 5s 3ms/step - loss: 0.1386 - accuracy: 0.9473\n",
            "Epoch 30/30\n",
            "1875/1875 [==============================] - 5s 3ms/step - loss: 0.1343 - accuracy: 0.9491\n"
          ]
        }
      ]
    },
    {
      "cell_type": "code",
      "source": [
        "model_3.evaluate(test_data_norm, test_labels)"
      ],
      "metadata": {
        "colab": {
          "base_uri": "https://localhost:8080/"
        },
        "id": "UjrHg0tqvkZx",
        "outputId": "a9d6c0c7-3753-4ec3-dddf-40e7dd332794"
      },
      "execution_count": 20,
      "outputs": [
        {
          "output_type": "stream",
          "name": "stdout",
          "text": [
            "313/313 [==============================] - 1s 2ms/step - loss: 0.4430 - accuracy: 0.8921\n"
          ]
        },
        {
          "output_type": "execute_result",
          "data": {
            "text/plain": [
              "[0.4429684579372406, 0.8920999765396118]"
            ]
          },
          "metadata": {},
          "execution_count": 20
        }
      ]
    },
    {
      "cell_type": "code",
      "source": [
        "model_3.summary()"
      ],
      "metadata": {
        "id": "TTqUkWQ41yMN",
        "colab": {
          "base_uri": "https://localhost:8080/"
        },
        "outputId": "b4a16513-06a9-4d9e-abc4-a408841f8e58"
      },
      "execution_count": 21,
      "outputs": [
        {
          "output_type": "stream",
          "name": "stdout",
          "text": [
            "Model: \"sequential_2\"\n",
            "_________________________________________________________________\n",
            " Layer (type)                Output Shape              Param #   \n",
            "=================================================================\n",
            " flatten_2 (Flatten)         (None, 784)               0         \n",
            "                                                                 \n",
            " dense_6 (Dense)             (None, 150)               117750    \n",
            "                                                                 \n",
            " dense_7 (Dense)             (None, 150)               22650     \n",
            "                                                                 \n",
            " dense_8 (Dense)             (None, 10)                1510      \n",
            "                                                                 \n",
            "=================================================================\n",
            "Total params: 141,910\n",
            "Trainable params: 141,910\n",
            "Non-trainable params: 0\n",
            "_________________________________________________________________\n"
          ]
        }
      ]
    },
    {
      "cell_type": "code",
      "source": [
        "plot_model(model_3_history)"
      ],
      "metadata": {
        "colab": {
          "base_uri": "https://localhost:8080/",
          "height": 265
        },
        "id": "Wx53E8KKGK0Z",
        "outputId": "103ad4a0-c5d5-4c6d-cb46-7d49764fe7f3"
      },
      "execution_count": 22,
      "outputs": [
        {
          "output_type": "display_data",
          "data": {
            "text/plain": [
              "<Figure size 432x288 with 1 Axes>"
            ],
            "image/png": "[encoded data removed]"
          },
          "metadata": {
            "needs_background": "light"
          }
        }
      ]
    },
    {
      "cell_type": "markdown",
      "source": [
        "### use elu activation function "
      ],
      "metadata": {
        "id": "irhHIZvHwj4n"
      }
    },
    {
      "cell_type": "code",
      "source": [
        "## build the model\n",
        "model_4 = tf.keras.Sequential([\n",
        "    tf.keras.layers.Flatten(input_shape=(28,28)),\n",
        "    tf.keras.layers.Dense(150, activation= \"elu\", kernel_initializer=\"he_normal\"),\n",
        "    tf.keras.layers.Dense(150, activation= \"elu\", kernel_initializer=\"he_normal\"),\n",
        "    tf.keras.layers.Dense(10, activation= \"softmax\")\n",
        "])\n",
        "\n",
        "## compile the model\n",
        "model_4.compile(loss= tf.keras.losses.SparseCategoricalCrossentropy(),\n",
        "                optimizer= tf.keras.optimizers.Adam(),\n",
        "                metrics=[\"accuracy\"])\n",
        "\n",
        "## fit the model\n",
        "model_4_history = model_4.fit(train_data_norm, train_labels, epochs=30)\n"
      ],
      "metadata": {
        "colab": {
          "base_uri": "https://localhost:8080/"
        },
        "id": "HNgQ77Ta0XYG",
        "outputId": "37379d04-64af-4a1c-9c50-799a09d024c1"
      },
      "execution_count": 23,
      "outputs": [
        {
          "output_type": "stream",
          "name": "stdout",
          "text": [
            "Epoch 1/30\n",
            "1875/1875 [==============================] - 6s 3ms/step - loss: 0.4733 - accuracy: 0.8285\n",
            "Epoch 2/30\n",
            "1875/1875 [==============================] - 5s 3ms/step - loss: 0.3630 - accuracy: 0.8659\n",
            "Epoch 3/30\n",
            "1875/1875 [==============================] - 5s 3ms/step - loss: 0.3290 - accuracy: 0.8779\n",
            "Epoch 4/30\n",
            "1875/1875 [==============================] - 5s 3ms/step - loss: 0.3054 - accuracy: 0.8876\n",
            "Epoch 5/30\n",
            "1875/1875 [==============================] - 5s 3ms/step - loss: 0.2847 - accuracy: 0.8925\n",
            "Epoch 6/30\n",
            "1875/1875 [==============================] - 5s 3ms/step - loss: 0.2679 - accuracy: 0.8987\n",
            "Epoch 7/30\n",
            "1875/1875 [==============================] - 5s 3ms/step - loss: 0.2570 - accuracy: 0.9021\n",
            "Epoch 8/30\n",
            "1875/1875 [==============================] - 5s 3ms/step - loss: 0.2455 - accuracy: 0.9069\n",
            "Epoch 9/30\n",
            "1875/1875 [==============================] - 5s 3ms/step - loss: 0.2319 - accuracy: 0.9117\n",
            "Epoch 10/30\n",
            "1875/1875 [==============================] - 5s 3ms/step - loss: 0.2236 - accuracy: 0.9144\n",
            "Epoch 11/30\n",
            "1875/1875 [==============================] - 5s 3ms/step - loss: 0.2130 - accuracy: 0.9179\n",
            "Epoch 12/30\n",
            "1875/1875 [==============================] - 5s 3ms/step - loss: 0.2044 - accuracy: 0.9219\n",
            "Epoch 13/30\n",
            "1875/1875 [==============================] - 5s 3ms/step - loss: 0.1970 - accuracy: 0.9243\n",
            "Epoch 14/30\n",
            "1875/1875 [==============================] - 5s 3ms/step - loss: 0.1863 - accuracy: 0.9297\n",
            "Epoch 15/30\n",
            "1875/1875 [==============================] - 5s 3ms/step - loss: 0.1828 - accuracy: 0.9297\n",
            "Epoch 16/30\n",
            "1875/1875 [==============================] - 5s 3ms/step - loss: 0.1753 - accuracy: 0.9330\n",
            "Epoch 17/30\n",
            "1875/1875 [==============================] - 5s 3ms/step - loss: 0.1667 - accuracy: 0.9354\n",
            "Epoch 18/30\n",
            "1875/1875 [==============================] - 5s 3ms/step - loss: 0.1630 - accuracy: 0.9372\n",
            "Epoch 19/30\n",
            "1875/1875 [==============================] - 5s 3ms/step - loss: 0.1563 - accuracy: 0.9408\n",
            "Epoch 20/30\n",
            "1875/1875 [==============================] - 6s 3ms/step - loss: 0.1507 - accuracy: 0.9424\n",
            "Epoch 21/30\n",
            "1875/1875 [==============================] - 5s 3ms/step - loss: 0.1462 - accuracy: 0.9429\n",
            "Epoch 22/30\n",
            "1875/1875 [==============================] - 5s 3ms/step - loss: 0.1381 - accuracy: 0.9475\n",
            "Epoch 23/30\n",
            "1875/1875 [==============================] - 5s 3ms/step - loss: 0.1369 - accuracy: 0.9471\n",
            "Epoch 24/30\n",
            "1875/1875 [==============================] - 5s 3ms/step - loss: 0.1302 - accuracy: 0.9494\n",
            "Epoch 25/30\n",
            "1875/1875 [==============================] - 5s 3ms/step - loss: 0.1284 - accuracy: 0.9498\n",
            "Epoch 26/30\n",
            "1875/1875 [==============================] - 5s 3ms/step - loss: 0.1229 - accuracy: 0.9521\n",
            "Epoch 27/30\n",
            "1875/1875 [==============================] - 5s 3ms/step - loss: 0.1208 - accuracy: 0.9525\n",
            "Epoch 28/30\n",
            "1875/1875 [==============================] - 5s 3ms/step - loss: 0.1155 - accuracy: 0.9550\n",
            "Epoch 29/30\n",
            "1875/1875 [==============================] - 5s 3ms/step - loss: 0.1145 - accuracy: 0.9561\n",
            "Epoch 30/30\n",
            "1875/1875 [==============================] - 5s 3ms/step - loss: 0.1131 - accuracy: 0.9567\n"
          ]
        }
      ]
    },
    {
      "cell_type": "code",
      "source": [
        "model_4.evaluate(test_data_norm, test_labels)"
      ],
      "metadata": {
        "colab": {
          "base_uri": "https://localhost:8080/"
        },
        "id": "iBekzc7N1q_U",
        "outputId": "52c96fcd-90f7-44c7-c6dc-e5a79099b4c5"
      },
      "execution_count": 24,
      "outputs": [
        {
          "output_type": "stream",
          "name": "stdout",
          "text": [
            "313/313 [==============================] - 1s 2ms/step - loss: 0.5099 - accuracy: 0.8813\n"
          ]
        },
        {
          "output_type": "execute_result",
          "data": {
            "text/plain": [
              "[0.509943425655365, 0.8812999725341797]"
            ]
          },
          "metadata": {},
          "execution_count": 24
        }
      ]
    },
    {
      "cell_type": "code",
      "source": [
        "model_4.summary()"
      ],
      "metadata": {
        "colab": {
          "base_uri": "https://localhost:8080/"
        },
        "id": "RMpJRuY92bZV",
        "outputId": "ce1df292-2217-4508-dbbe-4592db66a54a"
      },
      "execution_count": 25,
      "outputs": [
        {
          "output_type": "stream",
          "name": "stdout",
          "text": [
            "Model: \"sequential_3\"\n",
            "_________________________________________________________________\n",
            " Layer (type)                Output Shape              Param #   \n",
            "=================================================================\n",
            " flatten_3 (Flatten)         (None, 784)               0         \n",
            "                                                                 \n",
            " dense_9 (Dense)             (None, 150)               117750    \n",
            "                                                                 \n",
            " dense_10 (Dense)            (None, 150)               22650     \n",
            "                                                                 \n",
            " dense_11 (Dense)            (None, 10)                1510      \n",
            "                                                                 \n",
            "=================================================================\n",
            "Total params: 141,910\n",
            "Trainable params: 141,910\n",
            "Non-trainable params: 0\n",
            "_________________________________________________________________\n"
          ]
        }
      ]
    },
    {
      "cell_type": "code",
      "source": [
        "plot_model(model_4_history)"
      ],
      "metadata": {
        "colab": {
          "base_uri": "https://localhost:8080/",
          "height": 265
        },
        "id": "SHAg_0zzGR5L",
        "outputId": "91b6dd8d-48d2-4eea-926e-b925b1075b7f"
      },
      "execution_count": 26,
      "outputs": [
        {
          "output_type": "display_data",
          "data": {
            "text/plain": [
              "<Figure size 432x288 with 1 Axes>"
            ],
            "image/png": "[encoded data removed]"
          },
          "metadata": {
            "needs_background": "light"
          }
        }
      ]
    },
    {
      "cell_type": "markdown",
      "source": [
        "### model with elu activation is performing well "
      ],
      "metadata": {
        "id": "yKa2x2Ya2hx-"
      }
    },
    {
      "cell_type": "markdown",
      "source": [
        "### use BatchNormalization to reduce the danger of vanishing and exploding gradiants"
      ],
      "metadata": {
        "id": "JGBzIL0o2y_G"
      }
    },
    {
      "cell_type": "code",
      "source": [
        "model_5 = tf.keras.Sequential([\n",
        "    tf.keras.layers.Flatten(input_shape=(28,28)),\n",
        "    tf.keras.layers.Dense(150, activation= \"elu\", kernel_initializer=\"he_normal\"),\n",
        "    tf.keras.layers.BatchNormalization(),\n",
        "    tf.keras.layers.Dense(150, activation= \"elu\", kernel_initializer=\"he_normal\"),\n",
        "    tf.keras.layers.BatchNormalization(),\n",
        "    tf.keras.layers.Dense(10, activation= \"softmax\")\n",
        "])\n",
        "\n",
        "# compile the model\n",
        "model_5.compile(loss = tf.keras.losses.SparseCategoricalCrossentropy(),\n",
        "                optimizer= tf.keras.optimizers.Adam(),\n",
        "                metrics=[\"accuracy\"])\n",
        "\n",
        "# fit the model into training_data_norm\n",
        "model_5_history=model_5.fit(train_data_norm, train_labels, epochs=30)"
      ],
      "metadata": {
        "colab": {
          "base_uri": "https://localhost:8080/"
        },
        "id": "lSL-SoO1JIpc",
        "outputId": "e73eb93a-769b-4a05-ef83-65f0fc32c303"
      },
      "execution_count": 27,
      "outputs": [
        {
          "output_type": "stream",
          "name": "stdout",
          "text": [
            "Epoch 1/30\n",
            "1875/1875 [==============================] - 7s 3ms/step - loss: 0.4676 - accuracy: 0.8325\n",
            "Epoch 2/30\n",
            "1875/1875 [==============================] - 7s 3ms/step - loss: 0.3638 - accuracy: 0.8682\n",
            "Epoch 3/30\n",
            "1875/1875 [==============================] - 6s 3ms/step - loss: 0.3264 - accuracy: 0.8803\n",
            "Epoch 4/30\n",
            "1875/1875 [==============================] - 7s 3ms/step - loss: 0.3016 - accuracy: 0.8895\n",
            "Epoch 5/30\n",
            "1875/1875 [==============================] - 7s 4ms/step - loss: 0.2822 - accuracy: 0.8942\n",
            "Epoch 6/30\n",
            "1875/1875 [==============================] - 7s 4ms/step - loss: 0.2636 - accuracy: 0.9024\n",
            "Epoch 7/30\n",
            "1875/1875 [==============================] - 7s 4ms/step - loss: 0.2530 - accuracy: 0.9050\n",
            "Epoch 8/30\n",
            "1875/1875 [==============================] - 7s 4ms/step - loss: 0.2423 - accuracy: 0.9081\n",
            "Epoch 9/30\n",
            "1875/1875 [==============================] - 7s 4ms/step - loss: 0.2288 - accuracy: 0.9142\n",
            "Epoch 10/30\n",
            "1875/1875 [==============================] - 7s 4ms/step - loss: 0.2185 - accuracy: 0.9163\n",
            "Epoch 11/30\n",
            "1875/1875 [==============================] - 7s 4ms/step - loss: 0.2126 - accuracy: 0.9199\n",
            "Epoch 12/30\n",
            "1875/1875 [==============================] - 7s 4ms/step - loss: 0.2017 - accuracy: 0.9241\n",
            "Epoch 13/30\n",
            "1875/1875 [==============================] - 7s 4ms/step - loss: 0.1977 - accuracy: 0.9246\n",
            "Epoch 14/30\n",
            "1875/1875 [==============================] - 7s 4ms/step - loss: 0.1878 - accuracy: 0.9285\n",
            "Epoch 15/30\n",
            "1875/1875 [==============================] - 8s 4ms/step - loss: 0.1852 - accuracy: 0.9298\n",
            "Epoch 16/30\n",
            "1875/1875 [==============================] - 6s 3ms/step - loss: 0.1753 - accuracy: 0.9344\n",
            "Epoch 17/30\n",
            "1875/1875 [==============================] - 6s 3ms/step - loss: 0.1709 - accuracy: 0.9355\n",
            "Epoch 18/30\n",
            "1875/1875 [==============================] - 10s 5ms/step - loss: 0.1663 - accuracy: 0.9365\n",
            "Epoch 19/30\n",
            "1875/1875 [==============================] - 8s 4ms/step - loss: 0.1596 - accuracy: 0.9397\n",
            "Epoch 20/30\n",
            "1875/1875 [==============================] - 7s 3ms/step - loss: 0.1556 - accuracy: 0.9411\n",
            "Epoch 21/30\n",
            "1875/1875 [==============================] - 7s 4ms/step - loss: 0.1521 - accuracy: 0.9419\n",
            "Epoch 22/30\n",
            "1875/1875 [==============================] - 7s 3ms/step - loss: 0.1457 - accuracy: 0.9443\n",
            "Epoch 23/30\n",
            "1875/1875 [==============================] - 6s 3ms/step - loss: 0.1437 - accuracy: 0.9450\n",
            "Epoch 24/30\n",
            "1875/1875 [==============================] - 6s 3ms/step - loss: 0.1395 - accuracy: 0.9471\n",
            "Epoch 25/30\n",
            "1875/1875 [==============================] - 6s 3ms/step - loss: 0.1341 - accuracy: 0.9486\n",
            "Epoch 26/30\n",
            "1875/1875 [==============================] - 6s 3ms/step - loss: 0.1334 - accuracy: 0.9488\n",
            "Epoch 27/30\n",
            "1875/1875 [==============================] - 6s 3ms/step - loss: 0.1304 - accuracy: 0.9502\n",
            "Epoch 28/30\n",
            "1875/1875 [==============================] - 6s 3ms/step - loss: 0.1257 - accuracy: 0.9516\n",
            "Epoch 29/30\n",
            "1875/1875 [==============================] - 7s 4ms/step - loss: 0.1199 - accuracy: 0.9542\n",
            "Epoch 30/30\n",
            "1875/1875 [==============================] - 6s 3ms/step - loss: 0.1185 - accuracy: 0.9553\n"
          ]
        }
      ]
    },
    {
      "cell_type": "code",
      "source": [
        "model_5.evaluate(test_data_norm, test_labels)"
      ],
      "metadata": {
        "colab": {
          "base_uri": "https://localhost:8080/"
        },
        "id": "nRyw4ipwLIpC",
        "outputId": "152c3f5b-3577-46e5-dd48-df0e37da557c"
      },
      "execution_count": 28,
      "outputs": [
        {
          "output_type": "stream",
          "name": "stdout",
          "text": [
            "313/313 [==============================] - 1s 2ms/step - loss: 0.4367 - accuracy: 0.8837\n"
          ]
        },
        {
          "output_type": "execute_result",
          "data": {
            "text/plain": [
              "[0.4367150366306305, 0.8837000131607056]"
            ]
          },
          "metadata": {},
          "execution_count": 28
        }
      ]
    },
    {
      "cell_type": "code",
      "source": [
        "model_5.summary()"
      ],
      "metadata": {
        "colab": {
          "base_uri": "https://localhost:8080/"
        },
        "id": "WCSItwfMLabt",
        "outputId": "dbce1a89-11bb-4c71-f3cb-2c70b6826d55"
      },
      "execution_count": 29,
      "outputs": [
        {
          "output_type": "stream",
          "name": "stdout",
          "text": [
            "Model: \"sequential_4\"\n",
            "_________________________________________________________________\n",
            " Layer (type)                Output Shape              Param #   \n",
            "=================================================================\n",
            " flatten_4 (Flatten)         (None, 784)               0         \n",
            "                                                                 \n",
            " dense_12 (Dense)            (None, 150)               117750    \n",
            "                                                                 \n",
            " batch_normalization (BatchN  (None, 150)              600       \n",
            " ormalization)                                                   \n",
            "                                                                 \n",
            " dense_13 (Dense)            (None, 150)               22650     \n",
            "                                                                 \n",
            " batch_normalization_1 (Batc  (None, 150)              600       \n",
            " hNormalization)                                                 \n",
            "                                                                 \n",
            " dense_14 (Dense)            (None, 10)                1510      \n",
            "                                                                 \n",
            "=================================================================\n",
            "Total params: 143,110\n",
            "Trainable params: 142,510\n",
            "Non-trainable params: 600\n",
            "_________________________________________________________________\n"
          ]
        }
      ]
    },
    {
      "cell_type": "code",
      "source": [
        "plot_model(model_5_history)"
      ],
      "metadata": {
        "colab": {
          "base_uri": "https://localhost:8080/",
          "height": 265
        },
        "id": "ZSXBd_BSLeiB",
        "outputId": "68830dc7-cae0-46f3-cf5f-a7b59e2e967a"
      },
      "execution_count": 30,
      "outputs": [
        {
          "output_type": "display_data",
          "data": {
            "text/plain": [
              "<Figure size 432x288 with 1 Axes>"
            ],
            "image/png": "[encoded data removed]"
          },
          "metadata": {
            "needs_background": "light"
          }
        }
      ]
    },
    {
      "cell_type": "markdown",
      "source": [
        "### Schedule the learning rate"
      ],
      "metadata": {
        "id": "tND0FDfOLj_k"
      }
    },
    {
      "cell_type": "code",
      "source": [
        "model_6 = tf.keras.Sequential([\n",
        "    tf.keras.layers.Flatten(input_shape=(28,28)),\n",
        "    tf.keras.layers.Dense(150, activation= \"elu\", kernel_initializer=\"he_normal\"),\n",
        "    tf.keras.layers.BatchNormalization(),\n",
        "    tf.keras.layers.Dense(150, activation= \"elu\", kernel_initializer=\"he_normal\"),\n",
        "    tf.keras.layers.BatchNormalization(),\n",
        "    tf.keras.layers.Dense(10, activation= \"softmax\")\n",
        "])\n",
        "\n",
        "# compile the model\n",
        "model_6.compile(loss = tf.keras.losses.SparseCategoricalCrossentropy(),\n",
        "                optimizer= tf.keras.optimizers.Adam(),\n",
        "                metrics=[\"accuracy\"])\n",
        "# learning rate schedule callback\n",
        "lr_scheduler = tf.keras.callbacks.LearningRateScheduler(lambda epoch: 1e-4 * 10**(epoch/20))\n",
        "\n",
        "# fit the model into training_data_norm\n",
        "model_6_history=model_6.fit(train_data_norm, train_labels, epochs=100, callbacks=[lr_scheduler])"
      ],
      "metadata": {
        "colab": {
          "base_uri": "https://localhost:8080/"
        },
        "id": "pQkIiKfcMq_x",
        "outputId": "3de0fa92-0f05-4b12-c4c4-27910674e962"
      },
      "execution_count": 43,
      "outputs": [
        {
          "output_type": "stream",
          "name": "stdout",
          "text": [
            "Epoch 1/100\n",
            "1875/1875 [==============================] - 8s 4ms/step - loss: 0.5795 - accuracy: 0.8001 - lr: 1.0000e-04\n",
            "Epoch 2/100\n",
            "1875/1875 [==============================] - 6s 3ms/step - loss: 0.4246 - accuracy: 0.8500 - lr: 1.1220e-04\n",
            "Epoch 3/100\n",
            "1875/1875 [==============================] - 8s 4ms/step - loss: 0.3832 - accuracy: 0.8640 - lr: 1.2589e-04\n",
            "Epoch 4/100\n",
            "1875/1875 [==============================] - 9s 5ms/step - loss: 0.3556 - accuracy: 0.8730 - lr: 1.4125e-04\n",
            "Epoch 5/100\n",
            "1875/1875 [==============================] - 7s 4ms/step - loss: 0.3320 - accuracy: 0.8802 - lr: 1.5849e-04\n",
            "Epoch 6/100\n",
            "1875/1875 [==============================] - 6s 3ms/step - loss: 0.3148 - accuracy: 0.8868 - lr: 1.7783e-04\n",
            "Epoch 7/100\n",
            "1875/1875 [==============================] - 7s 3ms/step - loss: 0.3014 - accuracy: 0.8905 - lr: 1.9953e-04\n",
            "Epoch 8/100\n",
            "1875/1875 [==============================] - 6s 3ms/step - loss: 0.2900 - accuracy: 0.8939 - lr: 2.2387e-04\n",
            "Epoch 9/100\n",
            "1875/1875 [==============================] - 6s 3ms/step - loss: 0.2775 - accuracy: 0.8995 - lr: 2.5119e-04\n",
            "Epoch 10/100\n",
            "1875/1875 [==============================] - 6s 3ms/step - loss: 0.2710 - accuracy: 0.8999 - lr: 2.8184e-04\n",
            "Epoch 11/100\n",
            "1875/1875 [==============================] - 6s 3ms/step - loss: 0.2649 - accuracy: 0.9017 - lr: 3.1623e-04\n",
            "Epoch 12/100\n",
            "1875/1875 [==============================] - 7s 3ms/step - loss: 0.2551 - accuracy: 0.9060 - lr: 3.5481e-04\n",
            "Epoch 13/100\n",
            "1875/1875 [==============================] - 7s 3ms/step - loss: 0.2503 - accuracy: 0.9077 - lr: 3.9811e-04\n",
            "Epoch 14/100\n",
            "1875/1875 [==============================] - 7s 4ms/step - loss: 0.2445 - accuracy: 0.9092 - lr: 4.4668e-04\n",
            "Epoch 15/100\n",
            "1875/1875 [==============================] - 7s 4ms/step - loss: 0.2428 - accuracy: 0.9105 - lr: 5.0119e-04\n",
            "Epoch 16/100\n",
            "1875/1875 [==============================] - 7s 4ms/step - loss: 0.2381 - accuracy: 0.9112 - lr: 5.6234e-04\n",
            "Epoch 17/100\n",
            "1875/1875 [==============================] - 7s 4ms/step - loss: 0.2345 - accuracy: 0.9124 - lr: 6.3096e-04\n",
            "Epoch 18/100\n",
            "1875/1875 [==============================] - 7s 4ms/step - loss: 0.2353 - accuracy: 0.9125 - lr: 7.0795e-04\n",
            "Epoch 19/100\n",
            "1875/1875 [==============================] - 7s 4ms/step - loss: 0.2306 - accuracy: 0.9144 - lr: 7.9433e-04\n",
            "Epoch 20/100\n",
            "1875/1875 [==============================] - 7s 4ms/step - loss: 0.2309 - accuracy: 0.9140 - lr: 8.9125e-04\n",
            "Epoch 21/100\n",
            "1875/1875 [==============================] - 7s 3ms/step - loss: 0.2333 - accuracy: 0.9123 - lr: 0.0010\n",
            "Epoch 22/100\n",
            "1875/1875 [==============================] - 6s 3ms/step - loss: 0.2298 - accuracy: 0.9144 - lr: 0.0011\n",
            "Epoch 23/100\n",
            "1875/1875 [==============================] - 6s 3ms/step - loss: 0.2329 - accuracy: 0.9126 - lr: 0.0013\n",
            "Epoch 24/100\n",
            "1875/1875 [==============================] - 8s 4ms/step - loss: 0.2338 - accuracy: 0.9129 - lr: 0.0014\n",
            "Epoch 25/100\n",
            "1875/1875 [==============================] - 7s 3ms/step - loss: 0.2338 - accuracy: 0.9117 - lr: 0.0016\n",
            "Epoch 26/100\n",
            "1875/1875 [==============================] - 9s 5ms/step - loss: 0.2432 - accuracy: 0.9093 - lr: 0.0018\n",
            "Epoch 27/100\n",
            "1875/1875 [==============================] - 6s 3ms/step - loss: 0.2448 - accuracy: 0.9084 - lr: 0.0020\n",
            "Epoch 28/100\n",
            "1875/1875 [==============================] - 7s 3ms/step - loss: 0.2457 - accuracy: 0.9084 - lr: 0.0022\n",
            "Epoch 29/100\n",
            "1875/1875 [==============================] - 7s 3ms/step - loss: 0.2518 - accuracy: 0.9052 - lr: 0.0025\n",
            "Epoch 30/100\n",
            "1875/1875 [==============================] - 6s 3ms/step - loss: 0.2520 - accuracy: 0.9054 - lr: 0.0028\n",
            "Epoch 31/100\n",
            "1875/1875 [==============================] - 6s 3ms/step - loss: 0.2611 - accuracy: 0.9025 - lr: 0.0032\n",
            "Epoch 32/100\n",
            "1875/1875 [==============================] - 7s 3ms/step - loss: 0.2599 - accuracy: 0.9036 - lr: 0.0035\n",
            "Epoch 33/100\n",
            "1875/1875 [==============================] - 6s 3ms/step - loss: 0.2669 - accuracy: 0.9009 - lr: 0.0040\n",
            "Epoch 34/100\n",
            "1875/1875 [==============================] - 6s 3ms/step - loss: 0.2695 - accuracy: 0.9003 - lr: 0.0045\n",
            "Epoch 35/100\n",
            "1875/1875 [==============================] - 7s 4ms/step - loss: 0.2759 - accuracy: 0.8972 - lr: 0.0050\n",
            "Epoch 36/100\n",
            "1875/1875 [==============================] - 7s 4ms/step - loss: 0.2733 - accuracy: 0.8983 - lr: 0.0056\n",
            "Epoch 37/100\n",
            "1875/1875 [==============================] - 7s 3ms/step - loss: 0.2776 - accuracy: 0.8967 - lr: 0.0063\n",
            "Epoch 38/100\n",
            "1875/1875 [==============================] - 7s 3ms/step - loss: 0.2893 - accuracy: 0.8918 - lr: 0.0071\n",
            "Epoch 39/100\n",
            "1875/1875 [==============================] - 7s 3ms/step - loss: 0.2954 - accuracy: 0.8906 - lr: 0.0079\n",
            "Epoch 40/100\n",
            "1875/1875 [==============================] - 7s 4ms/step - loss: 0.2946 - accuracy: 0.8911 - lr: 0.0089\n",
            "Epoch 41/100\n",
            "1875/1875 [==============================] - 7s 4ms/step - loss: 0.3058 - accuracy: 0.8879 - lr: 0.0100\n",
            "Epoch 42/100\n",
            "1875/1875 [==============================] - 6s 3ms/step - loss: 0.3155 - accuracy: 0.8837 - lr: 0.0112\n",
            "Epoch 43/100\n",
            "1875/1875 [==============================] - 6s 3ms/step - loss: 0.3189 - accuracy: 0.8831 - lr: 0.0126\n",
            "Epoch 44/100\n",
            "1875/1875 [==============================] - 7s 3ms/step - loss: 0.3269 - accuracy: 0.8814 - lr: 0.0141\n",
            "Epoch 45/100\n",
            "1875/1875 [==============================] - 7s 4ms/step - loss: 0.3267 - accuracy: 0.8801 - lr: 0.0158\n",
            "Epoch 46/100\n",
            "1875/1875 [==============================] - 7s 3ms/step - loss: 0.3353 - accuracy: 0.8789 - lr: 0.0178\n",
            "Epoch 47/100\n",
            "1875/1875 [==============================] - 8s 4ms/step - loss: 0.3474 - accuracy: 0.8727 - lr: 0.0200\n",
            "Epoch 48/100\n",
            "1875/1875 [==============================] - 7s 3ms/step - loss: 0.3483 - accuracy: 0.8740 - lr: 0.0224\n",
            "Epoch 49/100\n",
            "1875/1875 [==============================] - 8s 4ms/step - loss: 0.3599 - accuracy: 0.8704 - lr: 0.0251\n",
            "Epoch 50/100\n",
            "1875/1875 [==============================] - 7s 3ms/step - loss: 0.3724 - accuracy: 0.8663 - lr: 0.0282\n",
            "Epoch 51/100\n",
            "1875/1875 [==============================] - 6s 3ms/step - loss: 0.3795 - accuracy: 0.8650 - lr: 0.0316\n",
            "Epoch 52/100\n",
            "1875/1875 [==============================] - 7s 3ms/step - loss: 0.3879 - accuracy: 0.8649 - lr: 0.0355\n",
            "Epoch 53/100\n",
            "1875/1875 [==============================] - 6s 3ms/step - loss: 0.3987 - accuracy: 0.8603 - lr: 0.0398\n",
            "Epoch 54/100\n",
            "1875/1875 [==============================] - 6s 3ms/step - loss: 0.4241 - accuracy: 0.8541 - lr: 0.0447\n",
            "Epoch 55/100\n",
            "1875/1875 [==============================] - 7s 4ms/step - loss: 0.4301 - accuracy: 0.8542 - lr: 0.0501\n",
            "Epoch 56/100\n",
            "1875/1875 [==============================] - 7s 3ms/step - loss: 0.4586 - accuracy: 0.8442 - lr: 0.0562\n",
            "Epoch 57/100\n",
            "1875/1875 [==============================] - 7s 3ms/step - loss: 0.4648 - accuracy: 0.8437 - lr: 0.0631\n",
            "Epoch 58/100\n",
            "1875/1875 [==============================] - 7s 3ms/step - loss: 0.4650 - accuracy: 0.8453 - lr: 0.0708\n",
            "Epoch 59/100\n",
            "1875/1875 [==============================] - 7s 3ms/step - loss: 0.5152 - accuracy: 0.8363 - lr: 0.0794\n",
            "Epoch 60/100\n",
            "1875/1875 [==============================] - 6s 3ms/step - loss: 0.4945 - accuracy: 0.8388 - lr: 0.0891\n",
            "Epoch 61/100\n",
            "1875/1875 [==============================] - 7s 3ms/step - loss: 0.5562 - accuracy: 0.8335 - lr: 0.1000\n",
            "Epoch 62/100\n",
            "1875/1875 [==============================] - 6s 3ms/step - loss: 0.6964 - accuracy: 0.8252 - lr: 0.1122\n",
            "Epoch 63/100\n",
            "1875/1875 [==============================] - 7s 3ms/step - loss: 0.6177 - accuracy: 0.8256 - lr: 0.1259\n",
            "Epoch 64/100\n",
            "1875/1875 [==============================] - 7s 3ms/step - loss: 0.8600 - accuracy: 0.8097 - lr: 0.1413\n",
            "Epoch 65/100\n",
            "1875/1875 [==============================] - 8s 5ms/step - loss: 0.6712 - accuracy: 0.8223 - lr: 0.1585\n",
            "Epoch 66/100\n",
            "1875/1875 [==============================] - 9s 5ms/step - loss: 0.8948 - accuracy: 0.8135 - lr: 0.1778\n",
            "Epoch 67/100\n",
            "1875/1875 [==============================] - 7s 3ms/step - loss: 1.3435 - accuracy: 0.8031 - lr: 0.1995\n",
            "Epoch 68/100\n",
            "1875/1875 [==============================] - 6s 3ms/step - loss: 1.2399 - accuracy: 0.8080 - lr: 0.2239\n",
            "Epoch 69/100\n",
            "1875/1875 [==============================] - 6s 3ms/step - loss: 1.4281 - accuracy: 0.7963 - lr: 0.2512\n",
            "Epoch 70/100\n",
            "1875/1875 [==============================] - 8s 4ms/step - loss: 1.6806 - accuracy: 0.7876 - lr: 0.2818\n",
            "Epoch 71/100\n",
            "1875/1875 [==============================] - 7s 3ms/step - loss: 2.2108 - accuracy: 0.7909 - lr: 0.3162\n",
            "Epoch 72/100\n",
            "1875/1875 [==============================] - 8s 4ms/step - loss: 3.6328 - accuracy: 0.7772 - lr: 0.3548\n",
            "Epoch 73/100\n",
            "1875/1875 [==============================] - 7s 3ms/step - loss: 2.7120 - accuracy: 0.7838 - lr: 0.3981\n",
            "Epoch 74/100\n",
            "1875/1875 [==============================] - 7s 4ms/step - loss: 5.0058 - accuracy: 0.7774 - lr: 0.4467\n",
            "Epoch 75/100\n",
            "1875/1875 [==============================] - 7s 4ms/step - loss: 5.6260 - accuracy: 0.7795 - lr: 0.5012\n",
            "Epoch 76/100\n",
            "1875/1875 [==============================] - 7s 4ms/step - loss: 6.6796 - accuracy: 0.7764 - lr: 0.5623\n",
            "Epoch 77/100\n",
            "1875/1875 [==============================] - 7s 4ms/step - loss: 8.3862 - accuracy: 0.7775 - lr: 0.6310\n",
            "Epoch 78/100\n",
            "1875/1875 [==============================] - 7s 4ms/step - loss: 9.8805 - accuracy: 0.7738 - lr: 0.7079\n",
            "Epoch 79/100\n",
            "1875/1875 [==============================] - 7s 3ms/step - loss: 10.1468 - accuracy: 0.7800 - lr: 0.7943\n",
            "Epoch 80/100\n",
            "1875/1875 [==============================] - 7s 4ms/step - loss: 19.2719 - accuracy: 0.7717 - lr: 0.8913\n",
            "Epoch 81/100\n",
            "1875/1875 [==============================] - 7s 4ms/step - loss: 19.5234 - accuracy: 0.7725 - lr: 1.0000\n",
            "Epoch 82/100\n",
            "1875/1875 [==============================] - 7s 3ms/step - loss: 33.3848 - accuracy: 0.7596 - lr: 1.1220\n",
            "Epoch 83/100\n",
            "1875/1875 [==============================] - 7s 4ms/step - loss: 36.7118 - accuracy: 0.7666 - lr: 1.2589\n",
            "Epoch 84/100\n",
            "1875/1875 [==============================] - 7s 4ms/step - loss: 47.1781 - accuracy: 0.7658 - lr: 1.4125\n",
            "Epoch 85/100\n",
            "1875/1875 [==============================] - 7s 4ms/step - loss: 51.7519 - accuracy: 0.7626 - lr: 1.5849\n",
            "Epoch 86/100\n",
            "1875/1875 [==============================] - 7s 4ms/step - loss: 79.7669 - accuracy: 0.7597 - lr: 1.7783\n",
            "Epoch 87/100\n",
            "1875/1875 [==============================] - 7s 4ms/step - loss: 71.6537 - accuracy: 0.7686 - lr: 1.9953\n",
            "Epoch 88/100\n",
            "1875/1875 [==============================] - 7s 4ms/step - loss: 126.1859 - accuracy: 0.7657 - lr: 2.2387\n",
            "Epoch 89/100\n",
            "1875/1875 [==============================] - 7s 4ms/step - loss: 107.1131 - accuracy: 0.7686 - lr: 2.5119\n",
            "Epoch 90/100\n",
            "1875/1875 [==============================] - 7s 4ms/step - loss: 151.1673 - accuracy: 0.7639 - lr: 2.8184\n",
            "Epoch 91/100\n",
            "1875/1875 [==============================] - 7s 4ms/step - loss: 307.0072 - accuracy: 0.7624 - lr: 3.1623\n",
            "Epoch 92/100\n",
            "1875/1875 [==============================] - 7s 4ms/step - loss: 200.8136 - accuracy: 0.7686 - lr: 3.5481\n",
            "Epoch 93/100\n",
            "1875/1875 [==============================] - 8s 4ms/step - loss: 342.7995 - accuracy: 0.7691 - lr: 3.9811\n",
            "Epoch 94/100\n",
            "1875/1875 [==============================] - 7s 4ms/step - loss: 405.9703 - accuracy: 0.7699 - lr: 4.4668\n",
            "Epoch 95/100\n",
            "1875/1875 [==============================] - 8s 4ms/step - loss: 396.9221 - accuracy: 0.7710 - lr: 5.0119\n",
            "Epoch 96/100\n",
            "1875/1875 [==============================] - 7s 4ms/step - loss: 948.8264 - accuracy: 0.7657 - lr: 5.6234\n",
            "Epoch 97/100\n",
            "1875/1875 [==============================] - 7s 4ms/step - loss: 904.7442 - accuracy: 0.7583 - lr: 6.3096\n",
            "Epoch 98/100\n",
            "1875/1875 [==============================] - 7s 3ms/step - loss: 826.5121 - accuracy: 0.7645 - lr: 7.0795\n",
            "Epoch 99/100\n",
            "1875/1875 [==============================] - 6s 3ms/step - loss: 1175.5613 - accuracy: 0.7644 - lr: 7.9433\n",
            "Epoch 100/100\n",
            "1875/1875 [==============================] - 6s 3ms/step - loss: 1914.5743 - accuracy: 0.7554 - lr: 8.9125\n"
          ]
        }
      ]
    },
    {
      "cell_type": "code",
      "source": [
        "plot_model(model_6_history)"
      ],
      "metadata": {
        "colab": {
          "base_uri": "https://localhost:8080/",
          "height": 268
        },
        "id": "MBX5HdV5Or8Y",
        "outputId": "8d32140c-1f8d-4409-8b8e-fbbec88766f8"
      },
      "execution_count": 44,
      "outputs": [
        {
          "output_type": "display_data",
          "data": {
            "text/plain": [
              "<Figure size 432x288 with 1 Axes>"
            ],
            "image/png": "[encoded data removed]"
          },
          "metadata": {
            "needs_background": "light"
          }
        }
      ]
    },
    {
      "cell_type": "code",
      "source": [
        "model_6.evaluate(test_data_norm, test_labels)"
      ],
      "metadata": {
        "colab": {
          "base_uri": "https://localhost:8080/"
        },
        "id": "JiwVLGAiTBrv",
        "outputId": "67f38115-21c2-4901-959b-bdc22ea8288f"
      },
      "execution_count": 45,
      "outputs": [
        {
          "output_type": "stream",
          "name": "stdout",
          "text": [
            "313/313 [==============================] - 1s 2ms/step - loss: 6637109248.0000 - accuracy: 0.7544\n"
          ]
        },
        {
          "output_type": "execute_result",
          "data": {
            "text/plain": [
              "[6637109248.0, 0.7544000148773193]"
            ]
          },
          "metadata": {},
          "execution_count": 45
        }
      ]
    },
    {
      "cell_type": "code",
      "source": [
        "import numpy as np\n",
        "\n",
        "# Plot the learning rate versus the loss\n",
        "lrs = 1e-4 * (10 ** (np.arange(100)/20))\n",
        "plt.figure(figsize=(10, 7))\n",
        "plt.semilogx(lrs, model_6_history.history[\"loss\"]) # we want the x-axis (learning rate) to be log scale\n",
        "plt.xlabel(\"Learning Rate\")\n",
        "plt.ylabel(\"Loss\")\n",
        "plt.title(\"Learning rate vs. loss\");"
      ],
      "metadata": {
        "colab": {
          "base_uri": "https://localhost:8080/",
          "height": 462
        },
        "id": "fS8Mzjj6PJO4",
        "outputId": "b7d73c46-1439-4bec-c7d1-f1e752a8e0b3"
      },
      "execution_count": 47,
      "outputs": [
        {
          "output_type": "display_data",
          "data": {
            "text/plain": [
              "<Figure size 720x504 with 1 Axes>"
            ],
            "image/png": "[encoded data removed]"
          },
          "metadata": {
            "needs_background": "light"
          }
        }
      ]
    },
    {
      "cell_type": "markdown",
      "source": [
        "### We can use 0.003 as learning rate"
      ],
      "metadata": {
        "id": "_OeKMZAiSMm2"
      }
    },
    {
      "cell_type": "markdown",
      "source": [
        "### The test accuracy is very low and training accuracy is very high which mean model 6 overfit the training data "
      ],
      "metadata": {
        "id": "FCkd9vpmSlOT"
      }
    },
    {
      "cell_type": "code",
      "source": [
        "## build the final model\n",
        "\n",
        "model_7 = tf.keras.Sequential([\n",
        "    tf.keras.layers.Flatten(input_shape=(28,28)),\n",
        "    tf.keras.layers.Dense(150, activation= \"elu\", kernel_initializer=\"he_normal\"),\n",
        "    tf.keras.layers.BatchNormalization(),\n",
        "    tf.keras.layers.Dropout(0.1),\n",
        "    tf.keras.layers.Dense(150, activation= \"elu\", kernel_initializer=\"he_normal\"),\n",
        "    tf.keras.layers.BatchNormalization(),\n",
        "    tf.keras.layers.Dropout(0.1),\n",
        "    tf.keras.layers.Dense(10, activation= \"softmax\")\n",
        "])\n",
        "\n",
        "# compile the model\n",
        "model_7.compile(loss = tf.keras.losses.SparseCategoricalCrossentropy(),\n",
        "                optimizer= tf.keras.optimizers.Adam(learning_rate = 3e-3),\n",
        "                metrics=[\"accuracy\"])\n",
        "\n",
        "# early stopping callback\n",
        "early_stopping = tf.keras.callbacks.EarlyStopping(patience=10)\n",
        "\n",
        "# fit the model into training_data_norm\n",
        "model_7_history=model_7.fit(train_data_norm, train_labels, epochs=100, validation_data= (test_data_norm,test_labels), callbacks=[early_stopping])"
      ],
      "metadata": {
        "id": "s13MysuKT7ef",
        "colab": {
          "base_uri": "https://localhost:8080/"
        },
        "outputId": "8c4399de-b21a-491f-d352-1e18651011b2"
      },
      "execution_count": 50,
      "outputs": [
        {
          "output_type": "stream",
          "name": "stdout",
          "text": [
            "Epoch 1/100\n",
            "1875/1875 [==============================] - 15s 7ms/step - loss: 0.5002 - accuracy: 0.8206 - val_loss: 0.4212 - val_accuracy: 0.8425\n",
            "Epoch 2/100\n",
            "1875/1875 [==============================] - 11s 6ms/step - loss: 0.3993 - accuracy: 0.8557 - val_loss: 0.4430 - val_accuracy: 0.8402\n",
            "Epoch 3/100\n",
            "1875/1875 [==============================] - 7s 4ms/step - loss: 0.3678 - accuracy: 0.8670 - val_loss: 0.4035 - val_accuracy: 0.8489\n",
            "Epoch 4/100\n",
            "1875/1875 [==============================] - 8s 4ms/step - loss: 0.3459 - accuracy: 0.8738 - val_loss: 0.3891 - val_accuracy: 0.8561\n",
            "Epoch 5/100\n",
            "1875/1875 [==============================] - 7s 4ms/step - loss: 0.3316 - accuracy: 0.8772 - val_loss: 0.3906 - val_accuracy: 0.8672\n",
            "Epoch 6/100\n",
            "1875/1875 [==============================] - 7s 4ms/step - loss: 0.3179 - accuracy: 0.8831 - val_loss: 0.3754 - val_accuracy: 0.8645\n",
            "Epoch 7/100\n",
            "1875/1875 [==============================] - 7s 4ms/step - loss: 0.3056 - accuracy: 0.8868 - val_loss: 0.4470 - val_accuracy: 0.8446\n",
            "Epoch 8/100\n",
            "1875/1875 [==============================] - 7s 4ms/step - loss: 0.2980 - accuracy: 0.8898 - val_loss: 0.3541 - val_accuracy: 0.8757\n",
            "Epoch 9/100\n",
            "1875/1875 [==============================] - 7s 4ms/step - loss: 0.2885 - accuracy: 0.8930 - val_loss: 0.3321 - val_accuracy: 0.8825\n",
            "Epoch 10/100\n",
            "1875/1875 [==============================] - 7s 4ms/step - loss: 0.2783 - accuracy: 0.8952 - val_loss: 0.3413 - val_accuracy: 0.8803\n",
            "Epoch 11/100\n",
            "1875/1875 [==============================] - 7s 4ms/step - loss: 0.2773 - accuracy: 0.8959 - val_loss: 0.3507 - val_accuracy: 0.8736\n",
            "Epoch 12/100\n",
            "1875/1875 [==============================] - 7s 4ms/step - loss: 0.2661 - accuracy: 0.9010 - val_loss: 0.3344 - val_accuracy: 0.8812\n",
            "Epoch 13/100\n",
            "1875/1875 [==============================] - 7s 4ms/step - loss: 0.2647 - accuracy: 0.9024 - val_loss: 0.3418 - val_accuracy: 0.8822\n",
            "Epoch 14/100\n",
            "1875/1875 [==============================] - 7s 4ms/step - loss: 0.2574 - accuracy: 0.9040 - val_loss: 0.3418 - val_accuracy: 0.8856\n",
            "Epoch 15/100\n",
            "1875/1875 [==============================] - 7s 4ms/step - loss: 0.2548 - accuracy: 0.9035 - val_loss: 0.3418 - val_accuracy: 0.8832\n",
            "Epoch 16/100\n",
            "1875/1875 [==============================] - 7s 4ms/step - loss: 0.2484 - accuracy: 0.9069 - val_loss: 0.3293 - val_accuracy: 0.8876\n",
            "Epoch 17/100\n",
            "1875/1875 [==============================] - 7s 4ms/step - loss: 0.2474 - accuracy: 0.9081 - val_loss: 0.3417 - val_accuracy: 0.8833\n",
            "Epoch 18/100\n",
            "1875/1875 [==============================] - 7s 4ms/step - loss: 0.2403 - accuracy: 0.9106 - val_loss: 0.3310 - val_accuracy: 0.8880\n",
            "Epoch 19/100\n",
            "1875/1875 [==============================] - 7s 4ms/step - loss: 0.2397 - accuracy: 0.9102 - val_loss: 0.3413 - val_accuracy: 0.8847\n",
            "Epoch 20/100\n",
            "1875/1875 [==============================] - 8s 4ms/step - loss: 0.2315 - accuracy: 0.9139 - val_loss: 0.3746 - val_accuracy: 0.8752\n",
            "Epoch 21/100\n",
            "1875/1875 [==============================] - 7s 4ms/step - loss: 0.2302 - accuracy: 0.9133 - val_loss: 0.3389 - val_accuracy: 0.8922\n",
            "Epoch 22/100\n",
            "1875/1875 [==============================] - 8s 4ms/step - loss: 0.2279 - accuracy: 0.9149 - val_loss: 0.3490 - val_accuracy: 0.8893\n",
            "Epoch 23/100\n",
            "1875/1875 [==============================] - 7s 4ms/step - loss: 0.2245 - accuracy: 0.9158 - val_loss: 0.3605 - val_accuracy: 0.8772\n",
            "Epoch 24/100\n",
            "1875/1875 [==============================] - 7s 4ms/step - loss: 0.2219 - accuracy: 0.9165 - val_loss: 0.3425 - val_accuracy: 0.8879\n",
            "Epoch 25/100\n",
            "1875/1875 [==============================] - 7s 4ms/step - loss: 0.2174 - accuracy: 0.9178 - val_loss: 0.3369 - val_accuracy: 0.8888\n",
            "Epoch 26/100\n",
            "1875/1875 [==============================] - 7s 4ms/step - loss: 0.2178 - accuracy: 0.9183 - val_loss: 0.3292 - val_accuracy: 0.8889\n",
            "Epoch 27/100\n",
            "1875/1875 [==============================] - 7s 4ms/step - loss: 0.2119 - accuracy: 0.9207 - val_loss: 0.3684 - val_accuracy: 0.8854\n",
            "Epoch 28/100\n",
            "1875/1875 [==============================] - 7s 4ms/step - loss: 0.2125 - accuracy: 0.9204 - val_loss: 0.3604 - val_accuracy: 0.8905\n",
            "Epoch 29/100\n",
            "1875/1875 [==============================] - 7s 4ms/step - loss: 0.2100 - accuracy: 0.9207 - val_loss: 0.3626 - val_accuracy: 0.8878\n",
            "Epoch 30/100\n",
            "1875/1875 [==============================] - 8s 4ms/step - loss: 0.2063 - accuracy: 0.9223 - val_loss: 0.3841 - val_accuracy: 0.8849\n",
            "Epoch 31/100\n",
            "1875/1875 [==============================] - 8s 4ms/step - loss: 0.2013 - accuracy: 0.9238 - val_loss: 0.3696 - val_accuracy: 0.8862\n",
            "Epoch 32/100\n",
            "1875/1875 [==============================] - 8s 4ms/step - loss: 0.2021 - accuracy: 0.9236 - val_loss: 0.3574 - val_accuracy: 0.8831\n",
            "Epoch 33/100\n",
            "1875/1875 [==============================] - 7s 4ms/step - loss: 0.1994 - accuracy: 0.9248 - val_loss: 0.3728 - val_accuracy: 0.8886\n",
            "Epoch 34/100\n",
            "1875/1875 [==============================] - 7s 4ms/step - loss: 0.2014 - accuracy: 0.9245 - val_loss: 0.3678 - val_accuracy: 0.8824\n",
            "Epoch 35/100\n",
            "1875/1875 [==============================] - 7s 4ms/step - loss: 0.1956 - accuracy: 0.9264 - val_loss: 0.3544 - val_accuracy: 0.8881\n",
            "Epoch 36/100\n",
            "1875/1875 [==============================] - 7s 4ms/step - loss: 0.1936 - accuracy: 0.9268 - val_loss: 0.3536 - val_accuracy: 0.8931\n"
          ]
        }
      ]
    },
    {
      "cell_type": "code",
      "source": [
        "model_7.evaluate(test_data_norm,test_labels)"
      ],
      "metadata": {
        "colab": {
          "base_uri": "https://localhost:8080/"
        },
        "id": "JSKNy8N4WptD",
        "outputId": "d4dc4786-b7e0-4583-c89d-e592d3886ed4"
      },
      "execution_count": 53,
      "outputs": [
        {
          "output_type": "stream",
          "name": "stdout",
          "text": [
            "313/313 [==============================] - 1s 2ms/step - loss: 0.3536 - accuracy: 0.8931\n"
          ]
        },
        {
          "output_type": "execute_result",
          "data": {
            "text/plain": [
              "[0.35364478826522827, 0.8931000232696533]"
            ]
          },
          "metadata": {},
          "execution_count": 53
        }
      ]
    },
    {
      "cell_type": "code",
      "source": [
        "plot_model(model_7_history)"
      ],
      "metadata": {
        "colab": {
          "base_uri": "https://localhost:8080/",
          "height": 265
        },
        "id": "n1-zcLF3aO84",
        "outputId": "5337d13e-8fec-45b0-8ec1-12ba6dc9e6ef"
      },
      "execution_count": 54,
      "outputs": [
        {
          "output_type": "display_data",
          "data": {
            "text/plain": [
              "<Figure size 432x288 with 1 Axes>"
            ],
            "image/png": "[encoded data removed]"
          },
          "metadata": {
            "needs_background": "light"
          }
        }
      ]
    },
    {
      "cell_type": "code",
      "source": [],
      "metadata": {
        "id": "jD6znjosa_Cw"
      },
      "execution_count": null,
      "outputs": []
    }
  ]
}